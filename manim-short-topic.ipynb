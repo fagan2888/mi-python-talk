{
 "cells": [
  {
   "cell_type": "markdown",
   "metadata": {
    "slideshow": {
     "slide_type": "slide"
    }
   },
   "source": [
    "# Manim\n",
    "\n",
    "<div>\n",
    "<img src=\"imgs/cropped.png\" width=\"1000\"/>\n",
    "</div>\n",
    "\n",
    "### Mathematical Animation Engine by Grant Sanderson (_3b1b_ on YouTube)\n",
    "\n",
    "_Short introduction by Steven Liu_"
   ]
  },
  {
   "cell_type": "markdown",
   "metadata": {
    "slideshow": {
     "slide_type": "notes"
    }
   },
   "source": [
    "Introduction. Role. Was looking up tutorials online and stumbled upon 3Blue1Brown, a popular channel on YouTube presenting high quality videos focused on math topics such as linear algebra and calculus. I was impressed to find that all the videos are programatically scripted in Python. "
   ]
  },
  {
   "cell_type": "markdown",
   "metadata": {
    "slideshow": {
     "slide_type": "slide"
    }
   },
   "source": [
    "## Overview\n",
    "\n",
    "Manim is an open source tool used to create high quality animations for the purpose of making educational math videos.\n",
    "\n",
    "The 5 core components are:\n",
    "1. Cairo\n",
    "2. FFMpeg\n",
    "3. SoX\n",
    "4. $\\TeX$\n",
    "5. Python"
   ]
  },
  {
   "cell_type": "markdown",
   "metadata": {
    "slideshow": {
     "slide_type": "notes"
    }
   },
   "source": [
    "- Cairo is a 2D graphics library (shapes and transforms)\n",
    "- FFMpeg is a multimedia framework (videos)\n",
    "- SoX is a sound processing program (audio)\n",
    "- TeX is a typesetting system (math formulas)\n",
    "- Python (Glue code and video scripting)"
   ]
  },
  {
   "cell_type": "markdown",
   "metadata": {
    "slideshow": {
     "slide_type": "slide"
    }
   },
   "source": [
    "## Capabilities\n",
    "- Text formatting, TeX formulas\n",
    "- Arrays, Transforms\n",
    "- 2D/3D graphs\n",
    "- Audio\n",
    "- Images"
   ]
  },
  {
   "cell_type": "markdown",
   "metadata": {
    "slideshow": {
     "slide_type": "notes"
    }
   },
   "source": [
    "Show video below, for demonstration purposes..\n",
    "https://www.youtube.com/watch?v=zLzLxVeqdQg"
   ]
  },
  {
   "cell_type": "code",
   "execution_count": 77,
   "metadata": {
    "slideshow": {
     "slide_type": "subslide"
    }
   },
   "outputs": [
    {
     "data": {
      "image/jpeg": "[encoded data removed]",
      "text/html": [
       "\n",
       "        <iframe\n",
       "            width=\"600\"\n",
       "            height=\"400\"\n",
       "            src=\"https://www.youtube.com/embed/zLzLxVeqdQg\"\n",
       "            frameborder=\"0\"\n",
       "            allowfullscreen\n",
       "        ></iframe>\n",
       "        "
      ],
      "text/plain": [
       "<IPython.lib.display.YouTubeVideo at 0x1232b6750>"
      ]
     },
     "execution_count": 77,
     "metadata": {},
     "output_type": "execute_result"
    }
   ],
   "source": [
    "from IPython.display import Audio, Image, YouTubeVideo\n",
    "YouTubeVideo(id='zLzLxVeqdQg',width=600,height=400)"
   ]
  },
  {
   "cell_type": "markdown",
   "metadata": {
    "slideshow": {
     "slide_type": "slide"
    }
   },
   "source": [
    "## Installation\n",
    "- Python 3.7\n",
    "- Works on Windows, Mac OS, Linux\n",
    "- Install system dependencies separately (cairo, FFmpeg, TeX, SoX)\n",
    "- Anaconda, PyPI\n",
    "- Docker image\n",
    "- https://github.com/3b1b/manim"
   ]
  },
  {
   "cell_type": "markdown",
   "metadata": {
    "slideshow": {
     "slide_type": "slide"
    }
   },
   "source": [
    "## Example Usage (Beginner)"
   ]
  },
  {
   "cell_type": "code",
   "execution_count": 78,
   "metadata": {
    "slideshow": {
     "slide_type": "fragment"
    }
   },
   "outputs": [],
   "source": [
    "import jupyter_manim"
   ]
  },
  {
   "cell_type": "code",
   "execution_count": 80,
   "metadata": {
    "slideshow": {
     "slide_type": "fragment"
    }
   },
   "outputs": [
    {
     "data": {
      "text/html": [
       "\n",
       "    <video\n",
       "      width=\"854\"\n",
       "      height=\"480\"\n",
       "      autoplay=\"autoplay\"\n",
       "      controls\n",
       "    >\n",
       "        <source src=\"media/videos/tmp3xpmrd_9/480p15/OurFirstVideo.mp4\" type=\"video/mp4\">\n",
       "    </video>\n",
       "    "
      ],
      "text/plain": [
       "<IPython.core.display.HTML object>"
      ]
     },
     "execution_count": 80,
     "metadata": {},
     "output_type": "execute_result"
    }
   ],
   "source": [
    "%%manim OurFirstVideo -l\n",
    "# Equivalent to command $ manim [.py file] Scene -pl\n",
    "from manimlib.imports import *\n",
    "class OurFirstVideo(Scene):\n",
    "    def construct(self):\n",
    "        circle = Circle()\n",
    "        self.play(ShowCreation(circle))\n",
    "        self.wait(2)"
   ]
  },
  {
   "cell_type": "markdown",
   "metadata": {
    "slideshow": {
     "slide_type": "notes"
    }
   },
   "source": [
    "How would we script a video? To begin, make a class that inherits from Manim. The `Scene` class expects a `construct` method to create animations. This must be implemented with additional methods for creating animations. In general, we 1. define objects, 2. play it.\n",
    "\n",
    "```python\n",
    "class OurFirstVideo(Scene):\n",
    "    def construct(self):\n",
    "        circle = Circle()# Square(color=RED), Rectangle(height=, width=),  Ellipse()\n",
    "        triangle = Polygon(np.array([0,0,0]), np.array([1,1,0]), np.array([1,-1,0]))\n",
    "        \n",
    "        # self.add to just plot\n",
    "        self.play(ShowCreation(circle)) # FadeIn, GrowFromCenter,\n",
    "        self.play(FadeOut(circle))\n",
    "        self.play(GrowFromCenter(triangle))\n",
    "        self.play(Transform(triangle, circle))\n",
    "```"
   ]
  },
  {
   "cell_type": "markdown",
   "metadata": {
    "slideshow": {
     "slide_type": "slide"
    }
   },
   "source": [
    "## Core Library Components\n",
    "- Scene `manimlib.scene`\n",
    "- Mobject `manimlib.mobject`\n",
    "- Animations `manimlib.animation`\n",
    "- Camera `manimlib.camera`\n",
    "- Constants `manimlib.constants`\n",
    "- Utils `manimlib.utils`\n",
    "\n",
    "## Running the tool\n",
    "```sh\n",
    "$ manim [-options] [.py file] [scene_names]\n",
    "```"
   ]
  },
  {
   "cell_type": "markdown",
   "metadata": {
    "slideshow": {
     "slide_type": "notes"
    }
   },
   "source": [
    "Manim can be executed from commandline, or we can run the python module. For this talk, I'm running it in Juypter Notebook. "
   ]
  },
  {
   "cell_type": "markdown",
   "metadata": {
    "slideshow": {
     "slide_type": "slide"
    }
   },
   "source": [
    "## Example Usage (Text, Tex)"
   ]
  },
  {
   "cell_type": "code",
   "execution_count": 81,
   "metadata": {
    "slideshow": {
     "slide_type": "fragment"
    }
   },
   "outputs": [
    {
     "data": {
      "text/html": [
       "\n",
       "    <video\n",
       "      width=\"854\"\n",
       "      height=\"480\"\n",
       "      autoplay=\"autoplay\"\n",
       "      controls\n",
       "    >\n",
       "        <source src=\"media/videos/tmpgphtdm0f/480p15/Text.mp4\" type=\"video/mp4\">\n",
       "    </video>\n",
       "    "
      ],
      "text/plain": [
       "<IPython.core.display.HTML object>"
      ]
     },
     "execution_count": 81,
     "metadata": {},
     "output_type": "execute_result"
    }
   ],
   "source": [
    "%%manim Text -l\n",
    "\n",
    "class Text(Scene):\n",
    "    def construct(self):\n",
    "        text = TextMobject(\"Hello\", color=RED)\n",
    "        text2 = TextMobject(\"World\")\n",
    "        text2.set_color_by_gradient(RED, PURPLE)\n",
    "        text.next_to(text2,UP)\n",
    "\n",
    "        self.wait(1)\n",
    "        self.play(Write(text), Write(text2))\n",
    "        self.play(FadeOut(text2), ReplacementTransform(text, text2))"
   ]
  },
  {
   "cell_type": "markdown",
   "metadata": {
    "slideshow": {
     "slide_type": "notes"
    }
   },
   "source": [
    "TextMobject provides positioning, coloring, and so on\n",
    "```python\n",
    "#Making equations\n",
    "\n",
    "des1 = TextMobject(\"With manim, you can write text like this ...\")\n",
    "first_eq = TextMobject(\"$$x = \\\\frac{-b \\\\pm \\\\sqrt{4ac}}{2a}$$\")\n",
    "des2 = TextMobject(\"Or this...\")\n",
    "second_eq = [\"x\", \"=\" \"$\\\\frac{-b \\\\pm \\\\sqrt{4ac}}{2a}$\"]\n",
    "second_mob = TextMobject(*second_eq)\n",
    "for i,item in enumerate(second_mob):\n",
    "    if(i != 0):\n",
    "        item.next_to(second_mob[i-1],RIGHT)\n",
    "eq2 = VGroup(*second_mob)\n",
    "\n",
    "#Positioning equations\n",
    "des1.shift(2*UP)\n",
    "des2.shift(2*UP)\n",
    "\n",
    "#Animating equations\n",
    "self.play(Write(des1))\n",
    "self.play(Write(first_eq))\n",
    "self.play(ReplacementTransform(des1, des2), Transform(first_eq, eq2))\n",
    "self.wait(1)\n",
    "self.add(eq2)\n",
    "self.wait(1)\n",
    "self.play(FadeOutAndShiftDown(eq2), FadeOutAndShiftDown(first_eq))\n",
    "```"
   ]
  },
  {
   "cell_type": "markdown",
   "metadata": {
    "slideshow": {
     "slide_type": "slide"
    }
   },
   "source": [
    "## Example Usage (Advanced)"
   ]
  },
  {
   "cell_type": "code",
   "execution_count": 76,
   "metadata": {
    "slideshow": {
     "slide_type": "fragment"
    }
   },
   "outputs": [
    {
     "data": {
      "text/html": [
       "\n",
       "    <video\n",
       "      width=\"854\"\n",
       "      height=\"480\"\n",
       "      autoplay=\"autoplay\"\n",
       "      controls\n",
       "    >\n",
       "        <source src=\"media/videos/tmpu4624apc/480p15/Test.mp4\" type=\"video/mp4\">\n",
       "    </video>\n",
       "    "
      ],
      "text/plain": [
       "<IPython.core.display.HTML object>"
      ]
     },
     "execution_count": 76,
     "metadata": {},
     "output_type": "execute_result"
    }
   ],
   "source": [
    "%%manim Advanced -l\n",
    "from manimlib.imports import *\n",
    "class ThreeDSurface(ParametricSurface):\n",
    "    def __init__(self, **kwargs):\n",
    "        kwargs = {\n",
    "        \"u_min\": -5,\n",
    "        \"u_max\": 5,\n",
    "        \"v_min\": -5,\n",
    "        \"v_max\": 5,\n",
    "        \"checkerboard_colors\": [BLUE_D]\n",
    "        }\n",
    "        ParametricSurface.__init__(self, self.func, **kwargs)\n",
    "\n",
    "    def func(self, x, y):\n",
    "        return np.array([x,y,np.cos(x) + np.sin(y)])\n",
    "\n",
    "class Advanced(ThreeDScene):\n",
    "    def construct(self):\n",
    "        self.set_camera_orientation(0.6, -0.7853981, 86.6)\n",
    "\n",
    "        surface = ThreeDSurface()\n",
    "        self.play(ShowCreation(surface))\n",
    "\n",
    "        self.wait()\n",
    "        self.move_camera(0.8*np.pi/2, -0.45*np.pi)\n",
    "        self.begin_ambient_camera_rotation()\n",
    "        self.wait(2)"
   ]
  },
  {
   "cell_type": "markdown",
   "metadata": {
    "slideshow": {
     "slide_type": "notes"
    }
   },
   "source": [
    "3D Graphs.... the first 3DSurface object inherits from ParametricSurface. This is the interface to define the mathematical function. `**kwargs` just lets us pass in the xy range and some visual options. The actual Scene we animate inherits yet again from ThreeDScene, and calls the ThreeDSurface!"
   ]
  },
  {
   "cell_type": "markdown",
   "metadata": {
    "slideshow": {
     "slide_type": "slide"
    }
   },
   "source": [
    "# Summary\n",
    "- Powerful, high quality animations\n",
    "- A lot more features than covered today!\n",
    "\n",
    "## Additional Resources\n",
    "- [https://github.com/3b1b/manim](https://github.com/3b1b/manim)\n",
    "- Tutorials on Github\n",
    "- Youtube series\n",
    "- Reddit\n",
    "\n",
    "## Credits\n",
    "- Manim tutorials\n",
    "- 3b1b Github"
   ]
  },
  {
   "cell_type": "code",
   "execution_count": null,
   "metadata": {
    "collapsed": true
   },
   "outputs": [],
   "source": []
  }
 ],
 "metadata": {
  "celltoolbar": "Slideshow",
  "kernelspec": {
   "display_name": "Python 3",
   "language": "python",
   "name": "python3"
  },
  "language_info": {
   "codemirror_mode": {
    "name": "ipython",
    "version": 3
   },
   "file_extension": ".py",
   "mimetype": "text/x-python",
   "name": "python",
   "nbconvert_exporter": "python",
   "pygments_lexer": "ipython3",
   "version": "3.7.6"
  }
 },
 "nbformat": 4,
 "nbformat_minor": 4
}
